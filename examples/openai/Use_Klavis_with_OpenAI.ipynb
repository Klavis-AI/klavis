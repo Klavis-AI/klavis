{
  "cells": [
    {
      "cell_type": "markdown",
      "metadata": {
        "vscode": {
          "languageId": "raw"
        }
      },
      "source": [
        "[![Open In Colab](https://colab.research.google.com/assets/colab-badge.svg)](https://colab.research.google.com/github/klavis-ai/klavis/blob/main/examples/openai/Use_Klavis_with_OpenAI.ipynb)\n"
      ]
    },
    {
      "cell_type": "markdown",
      "metadata": {
        "vscode": {
          "languageId": "raw"
        }
      },
      "source": [
        "# OpenAI + Klavis AI Integration\n",
        "\n",
        "This tutorial demonstrates how to build AI agents using OpenAI's function calling with Klavis MCP (Model Context Protocol) servers.\n"
      ]
    },
    {
      "cell_type": "markdown",
      "metadata": {
        "vscode": {
          "languageId": "raw"
        }
      },
      "source": [
        "## Prerequisites\n",
        "\n",
        "- **OpenAI API key** - Get at [openai.com](https://openai.com/)\n",
        "- **Klavis API key** - Get at [klavis.ai](https://klavis.ai/)\n"
      ]
    },
    {
      "cell_type": "code",
      "execution_count": 1,
      "metadata": {},
      "outputs": [
        {
          "name": "stdout",
          "output_type": "stream",
          "text": [
            "\n",
            "\u001b[1m[\u001b[0m\u001b[34;49mnotice\u001b[0m\u001b[1;39;49m]\u001b[0m\u001b[39;49m A new release of pip is available: \u001b[0m\u001b[31;49m25.0\u001b[0m\u001b[39;49m -> \u001b[0m\u001b[32;49m25.1.1\u001b[0m\n",
            "\u001b[1m[\u001b[0m\u001b[34;49mnotice\u001b[0m\u001b[1;39;49m]\u001b[0m\u001b[39;49m To update, run: \u001b[0m\u001b[32;49mpip install --upgrade pip\u001b[0m\n",
            "Note: you may need to restart the kernel to use updated packages.\n"
          ]
        }
      ],
      "source": [
        "# Install the required packages\n",
        "%pip install -qU openai klavis requests\n"
      ]
    },
    {
      "cell_type": "code",
      "execution_count": 8,
      "metadata": {},
      "outputs": [],
      "source": [
        "import os\n",
        "import json\n",
        "from openai import OpenAI\n",
        "from klavis import Klavis\n",
        "from klavis.types import McpServerName, ConnectionType, ToolFormat\n",
        "\n",
        "# Set environment variables\n",
        "os.environ[\"OPENAI_API_KEY\"] = \"YOUR_OPENAI_API_KEY\"  # Replace with your actual OpenAI API key\n",
        "os.environ[\"KLAVIS_API_KEY\"] = \"YOUR_KLAVIS_API_KEY\"  # Replace with your actual Klavis API key"
      ]
    },
    {
      "cell_type": "markdown",
      "metadata": {
        "vscode": {
          "languageId": "raw"
        }
      },
      "source": [
        "## Case Study : YouTube AI Agent"
      ]
    },
    {
      "cell_type": "markdown",
      "metadata": {
        "vscode": {
          "languageId": "raw"
        }
      },
      "source": [
        "#### Step 1 - Create YouTube MCP Server using Klavis\n"
      ]
    },
    {
      "cell_type": "code",
      "execution_count": 7,
      "metadata": {},
      "outputs": [],
      "source": [
        "\n",
        "\n",
        "klavis_client = Klavis(api_key=os.getenv(\"KLAVIS_API_KEY\"))\n",
        "\n",
        "youtube_mcp_instance = klavis_client.mcp_server.create_server_instance(\n",
        "    server_name=McpServerName.YOUTUBE,\n",
        "    user_id=\"1234\",\n",
        "    platform_name=\"Klavis\",\n",
        "    connection_type=ConnectionType.STREAMABLE_HTTP,\n",
        ")\n",
        "\n",
        "# print(f\"🔗 YouTube MCP server created at: {youtube_mcp_instance.server_url}, and the instance id is {youtube_mcp_instance.instance_id}\")\n"
      ]
    },
    {
      "cell_type": "markdown",
      "metadata": {
        "vscode": {
          "languageId": "raw"
        }
      },
      "source": [
        "#### Step 2 - Create AI Agent to summarize YouTube video\n"
      ]
    },
    {
      "cell_type": "code",
      "execution_count": 18,
      "metadata": {},
      "outputs": [
        {
          "name": "stdout",
          "output_type": "stream",
          "text": [
            "response ChatCompletion(id='chatcmpl-BkaclCk6j6lGKZSdeuqbc10NBH3Mn', choices=[Choice(finish_reason='tool_calls', index=0, logprobs=None, message=ChatCompletionMessage(content=None, refusal=None, role='assistant', annotations=[], audio=None, function_call=None, tool_calls=[ChatCompletionMessageToolCall(id='call_A4Kllzb9i2nL5zml62ZRhmkT', function=Function(arguments='{\"url\":\"https://www.youtube.com/watch?v=LCEmiRjPEtQ\"}', name='get_youtube_video_transcript'), type='function')]))], created=1750443571, model='gpt-4o-mini-2024-07-18', object='chat.completion', service_tier='default', system_fingerprint='fp_34a54ae93c', usage=CompletionUsage(completion_tokens=33, prompt_tokens=161, total_tokens=194, completion_tokens_details=CompletionTokensDetails(accepted_prediction_tokens=0, audio_tokens=0, reasoning_tokens=0, rejected_prediction_tokens=0), prompt_tokens_details=PromptTokensDetails(audio_tokens=0, cached_tokens=0)))\n",
            "🔧 Calling: get_youtube_video_transcript, with args: {'url': 'https://www.youtube.com/watch?v=LCEmiRjPEtQ'}\n",
            "\n",
            "📝 Video Summary:\n",
            "### Summary of \"Andrej Karpathy: Software Is Changing (Again)\" \n",
            "\n",
            "- **Video Title:** Andrej Karpathy: Software Is Changing (Again)\n",
            "- **Published By:** Y Combinator\n",
            "- **Duration:** 39 minutes and 32 seconds\n",
            "- **View Count:** 543,455\n",
            "- **Like Count:** 21,114\n",
            "- **Comment Count:** 517\n",
            "- **Published On:** June 19, 2025\n",
            "- **Thumbnail:** ![Thumbnail](https://i.ytimg.com/vi/LCEmiRjPEtQ/hqdefault.jpg)\n",
            "  \n",
            "#### Key Points & Chapters:\n",
            "\n",
            "1. **Intro (00:00 - 01:25):**  \n",
            "   Andrej Karpathy introduces his keynote at AI Startup School, highlighting the significant changes in software development.\n",
            "\n",
            "2. **Software Evolution: From 1.0 to 3.0 (01:25 - 04:40):**  \n",
            "   Karpathy discusses the evolution of software, presenting scenarios from its initial versions up to the current phase he labels \"Software 3.0.\"\n",
            "\n",
            "3. **Programming in English: Rise of Software 3.0 (04:40 - 06:10):**  \n",
            "   He emphasizes the shift to natural language processing as a programming interface, making technology more accessible.\n",
            "\n",
            "4. **LLMs as Utilities, Fabs, and Operating Systems (06:10 - 11:04):**  \n",
            "   He compares Large Language Models (LLMs) to traditional computing models, categorizing them as essential utilities and hints at their operating system-like behavior.\n",
            "\n",
            "5. **The New LLM OS and Historical Computing Analogies (11:04 - 14:39):**  \n",
            "   He draws parallels between today's LLMs and the computing advancements of the 1960s, suggesting that we are at an early stage of their integration into tech infrastructure.\n",
            "\n",
            "6. **Psychology of LLMs: People Spirits and Cognitive Quirks (14:39 - 18:22):**  \n",
            "   Karpathy describes the quasi-sentient nature of LLMs, likening them to \"people spirits\" that exhibit both superhuman qualities and human-like fallibility.\n",
            "\n",
            "7. **Designing LLM Apps with Partial Autonomy (18:22 - 23:40):**  \n",
            "   He proposes using LLMs for products that can operate with partial autonomy.\n",
            "\n",
            "8. **Importance of Human-AI Collaboration Loops (23:40 - 26:00):**  \n",
            "   The talk emphasizes the necessity of designing systems that foster effective collaboration between humans and AI.\n",
            "\n",
            "9. **Lessons from Tesla Autopilot & Autonomy Sliders (26:00 - 27:52):**  \n",
            "   Insights from Tesla’s work in autonomy highlight how to harness AI effectively.\n",
            "\n",
            "10. **The Iron Man Analogy: Augmentation vs. Agents (27:52 - 29:06):**  \n",
            "    He presents an analogy relating LLMs to augmented intelligence and the roles they can play as agents in user interactions.\n",
            "\n",
            "11. **Vibe Coding: Everyone is Now a Programmer (29:06 - 33:39):**  \n",
            "    Karpathy introduces the concept of \"vibe coding,\" suggesting that natural language programming makes coding accessible to everyone.\n",
            "\n",
            "12. **Building for Agents: Future-Ready Digital Infrastructure (33:39 - 38:14):**  \n",
            "    He discusses the need for developing infrastructure that prepares for AI and agent-based digital interactions.\n",
            "\n",
            "13. **Summary: We’re in the 1960s of LLMs — Time to Build (38:14 - End):**  \n",
            "    Karpathy concludes that we are at a pivotal moment in AI and software evolution, reminiscent of the computing breakthroughs of the 1960s, urging developers to innovate actively.\n",
            "\n",
            "This keynote delves into how the landscape of software is transforming fundamentally, highlighting the implications for developers, the populace, and the design of software in a future dominated by AI and natural language interactions.\n"
          ]
        }
      ],
      "source": [
        "\n",
        "youtube_tools = klavis_client.mcp_server.list_server_tools(\n",
        "    server_url=youtube_mcp_instance.server_url,\n",
        "    connection_type=ConnectionType.STREAMABLE_HTTP,\n",
        "    format=ToolFormat.OPENAI,\n",
        ")\n",
        "\n",
        "openai_client = OpenAI(api_key=os.getenv(\"OPENAI_API_KEY\"))\n",
        "\n",
        "def run_youtube_agent(video_url):\n",
        "    \"\"\"Run the YouTube AI agent to summarize a video.\"\"\"\n",
        "    messages = [\n",
        "        {\"role\": \"system\", \"content\": \"You are a comprehensive YouTube video analyzer. Use the available tools to analyze and summarize videos.\"},\n",
        "        {\"role\": \"user\", \"content\": f\"Provide a complete summary of this YouTube video with timestamp: {video_url}\"}\n",
        "    ]\n",
        "    \n",
        "    response = openai_client.chat.completions.create(\n",
        "        model=\"gpt-4o-mini\",\n",
        "        messages=messages,\n",
        "        tools=youtube_tools.tools\n",
        "    )\n",
        "    \n",
        "    print(\"response\", response)\n",
        "    \n",
        "    message = response.choices[0].message\n",
        "    \n",
        "    if message.tool_calls:\n",
        "        # Execute tool calls\n",
        "        messages.append(message)\n",
        "        \n",
        "        for tool_call in message.tool_calls:\n",
        "            function_name = tool_call.function.name\n",
        "            function_args = json.loads(tool_call.function.arguments)\n",
        "            \n",
        "            print(f\"🔧 Calling: {function_name}, with args: {function_args}\")\n",
        "            \n",
        "            # Call the MCP tool\n",
        "            result = klavis_client.mcp_server.call_server_tool(\n",
        "                server_url=youtube_mcp_instance.server_url,\n",
        "                tool_name=function_name,\n",
        "                tool_args=function_args,\n",
        "                connection_type=ConnectionType.STREAMABLE_HTTP\n",
        "            )\n",
        "            \n",
        "            # Extract the actual content from the CallToolResult\n",
        "            if result.success and result.result and result.result.content:\n",
        "                content = result.result.content[0]['text']\n",
        "            else:\n",
        "                content = f\"Error: {result.error}\" if result.error else \"No content returned\"\n",
        "            \n",
        "            messages.append({\n",
        "                \"role\": \"tool\",\n",
        "                \"tool_call_id\": tool_call.id,\n",
        "                \"content\": content\n",
        "            })\n",
        "        \n",
        "        # Get final response\n",
        "        final_response = openai_client.chat.completions.create(\n",
        "            model=\"gpt-4o-mini\",\n",
        "            messages=messages\n",
        "        )\n",
        "        \n",
        "        return final_response.choices[0].message.content\n",
        "    \n",
        "    return message.content\n",
        "\n",
        "# Test with a YouTube video\n",
        "YOUTUBE_VIDEO_URL = \"https://www.youtube.com/watch?v=LCEmiRjPEtQ\"  # pick a video you like!\n",
        "\n",
        "summary = run_youtube_agent(YOUTUBE_VIDEO_URL)\n",
        "print(f\"\\n📝 Video Summary:\\n{summary}\")\n"
      ]
    },
    {
      "cell_type": "markdown",
      "metadata": {
        "vscode": {
          "languageId": "raw"
        }
      },
      "source": [
        "✅ Great! You've successfully created an AI agent that uses OpenAI function calling with Klavis MCP servers to summarize YouTube videos!\n",
        "\n",
        "## Summary\n",
        "\n",
        "This tutorial showed how to integrate OpenAI with Klavis AI:\n",
        "\n",
        "1. **Created YouTube MCP Server** using Klavis\n",
        "2. **Set up OpenAI Function Calling** with MCP Server\n",
        "3. **Built AI Agent** that summarizes YouTube videos\n",
        "\n",
        "The combination of OpenAI's powerful language models with Klavis MCP servers provides seamless access to external tools and services. Happy building! 🚀\n"
      ]
    }
  ],
  "metadata": {
    "kernelspec": {
      "display_name": "Python (cookbook-venv)",
      "language": "python",
      "name": "cookbook-venv"
    },
    "language_info": {
      "codemirror_mode": {
        "name": "ipython",
        "version": 3
      },
      "file_extension": ".py",
      "mimetype": "text/x-python",
      "name": "python",
      "nbconvert_exporter": "python",
      "pygments_lexer": "ipython3",
      "version": "3.13.2"
    }
  },
  "nbformat": 4,
  "nbformat_minor": 2
}
