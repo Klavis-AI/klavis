{
  "cells": [
    {
      "cell_type": "markdown",
      "metadata": {
        "vscode": {
          "languageId": "raw"
        }
      },
      "source": [
        "[![Open In Colab](https://colab.research.google.com/assets/colab-badge.svg)](https://colab.research.google.com/github/klavis-ai/klavis/blob/main/examples/together-ai/Salesforce_Gmail_TogetherAI_Integration.ipynb)\n"
      ]
    },
    {
      "cell_type": "markdown",
      "metadata": {
        "vscode": {
          "languageId": "raw"
        }
      },
      "source": [
        "# Together AI + Klavis Salesforce + Gmail Integration\n",
        "\n",
        "# <img src=\"../../static/togetherai-klavis.png\" width=\"700\">\n",
        "\n",
        "This tutorial demonstrates how to build a powerful AI agent using Together AI and Klavis MCP servers to:\n",
        "\n",
        "- **Salesforce Integration**: Automatically find CRM data like opportunities\n",
        "- **Gmail Integration**: Draft and send professional follow-up emails\n",
        "- **AI-Powered**: Use Together AI's LLMs for intelligent email composition\n"
      ]
    },
    {
      "cell_type": "markdown",
      "metadata": {
        "vscode": {
          "languageId": "raw"
        }
      },
      "source": [
        "## Prerequisites\n",
        "\n",
        "Before we begin, you'll need:\n",
        "\n",
        "- **Together AI API key** - Get yours at [together.ai](https://together.ai/)\n",
        "- **Klavis AI API key** - Get yours at [klavis.ai](https://klavis.ai/)"
      ]
    },
    {
      "cell_type": "code",
      "execution_count": 1,
      "metadata": {},
      "outputs": [
        {
          "name": "stdout",
          "output_type": "stream",
          "text": [
            "Note: you may need to restart the kernel to use updated packages.\n"
          ]
        }
      ],
      "source": [
        "# Install the required packages\n",
        "%pip install -qU together klavis"
      ]
    },
    {
      "cell_type": "code",
      "execution_count": null,
      "metadata": {},
      "outputs": [],
      "source": [
        "import os\n",
        "import json\n",
        "import webbrowser\n",
        "from together import Together\n",
        "from klavis import Klavis\n",
        "from klavis.types import McpServerName, ToolFormat\n",
        "\n",
        "# Set environment variables\n",
        "os.environ[\"TOGETHER_API_KEY\"] = \"YOUR_TOGETHER_API_KEY\"  # Replace with your actual Together API key\n",
        "os.environ[\"KLAVIS_API_KEY\"] = \"YOUR_KLAVIS_API_KEY\"      # Replace with your actual Klavis API key"
      ]
    },
    {
      "cell_type": "markdown",
      "metadata": {
        "vscode": {
          "languageId": "raw"
        }
      },
      "source": [
        "## Step 1: Initialize Clients and Create MCP Server Instances\n",
        "\n",
        "First, let's set up our Together AI and Klavis clients, then create Salesforce and Gmail MCP server instances."
      ]
    },
    {
      "cell_type": "code",
      "execution_count": 3,
      "metadata": {},
      "outputs": [],
      "source": [
        "# Initialize clients\n",
        "together_client = Together(api_key=os.getenv(\"TOGETHER_API_KEY\"))\n",
        "klavis_client = Klavis(api_key=os.getenv(\"KLAVIS_API_KEY\"))"
      ]
    },
    {
      "cell_type": "code",
      "execution_count": null,
      "metadata": {},
      "outputs": [
        {
          "name": "stdout",
          "output_type": "stream",
          "text": [
            "🔐 Opening OAuth authorization for Salesforce...\n"
          ]
        }
      ],
      "source": [
        "# Create Salesforce MCP Server instance\n",
        "salesforce_mcp_instance = klavis_client.mcp_server.create_server_instance(\n",
        "    server_name=McpServerName.SALESFORCE,\n",
        "    user_id=\"1234\", \n",
        "    platform_name=\"TogetherAI\" \n",
        ")\n",
        "\n",
        "# Open OAuth URL for Salesforce authorization\n",
        "webbrowser.open(salesforce_mcp_instance.oauth_url)\n",
        "print(f\"🔐 Opening OAuth authorization for Salesforce...\")"
      ]
    },
    {
      "cell_type": "code",
      "execution_count": null,
      "metadata": {},
      "outputs": [
        {
          "name": "stdout",
          "output_type": "stream",
          "text": [
            "🔐 Opening OAuth authorization for Gmail...\n"
          ]
        }
      ],
      "source": [
        "# Create Gmail MCP Server instance\n",
        "gmail_mcp_instance = klavis_client.mcp_server.create_server_instance(\n",
        "    server_name=McpServerName.GMAIL,\n",
        "    user_id=\"1234\",\n",
        "    platform_name=\"TogetherAI\"\n",
        ")\n",
        "\n",
        "# Open OAuth URL for Gmail authorization\n",
        "webbrowser.open(gmail_mcp_instance.oauth_url)\n",
        "print(f\"🔐 Opening OAuth authorization for Gmail...\")"
      ]
    },
    {
      "cell_type": "markdown",
      "metadata": {
        "vscode": {
          "languageId": "raw"
        }
      },
      "source": [
        "## Step 2: Create workflow \n",
        "\n",
        "Now we'll create a workflow that can work with both Salesforce and Gmail MCP servers."
      ]
    },
    {
      "cell_type": "code",
      "execution_count": 17,
      "metadata": {},
      "outputs": [
        {
          "name": "stdout",
          "output_type": "stream",
          "text": [
            "🔧 Available tools: [{'type': 'function', 'function': {'name': 'salesforce_get_accounts', 'description': 'Get accounts with flexible filtering options including name search, industry, and type.', 'parameters': {'type': 'object', 'properties': {'limit': {'type': 'integer', 'description': 'Maximum number of accounts to return (default: 50)', 'default': 50}, 'fields': {'type': 'array', 'items': {'type': 'string'}, 'description': 'Specific fields to retrieve'}, 'name_contains': {'type': 'string', 'description': 'Filter accounts by name containing this text (case-insensitive)'}, 'industry': {'type': 'string', 'description': 'Filter accounts by industry'}, 'account_type': {'type': 'string', 'description': 'Filter accounts by type'}}, 'required': []}}}, {'type': 'function', 'function': {'name': 'salesforce_create_account', 'description': 'Create a new account in Salesforce.', 'parameters': {'type': 'object', 'properties': {'account_data': {'type': 'object', 'description': 'Account data including Name (required) and other fields'}}, 'required': ['account_data']}}}, {'type': 'function', 'function': {'name': 'salesforce_update_account', 'description': 'Update an existing account.', 'parameters': {'type': 'object', 'properties': {'account_id': {'type': 'string', 'description': 'The ID of the account to update'}, 'account_data': {'type': 'object', 'description': 'Updated account data'}}, 'required': ['account_id', 'account_data']}}}, {'type': 'function', 'function': {'name': 'salesforce_delete_account', 'description': 'Delete an account.', 'parameters': {'type': 'object', 'properties': {'account_id': {'type': 'string', 'description': 'The ID of the account to delete'}}, 'required': ['account_id']}}}, {'type': 'function', 'function': {'name': 'salesforce_get_contacts', 'description': 'Get contacts with flexible filtering options including name, email, and title search.', 'parameters': {'type': 'object', 'properties': {'account_id': {'type': 'string', 'description': 'Filter contacts by account ID'}, 'limit': {'type': 'integer', 'description': 'Maximum number of contacts to return (default: 50)', 'default': 50}, 'fields': {'type': 'array', 'items': {'type': 'string'}, 'description': 'Specific fields to retrieve'}, 'name_contains': {'type': 'string', 'description': 'Filter contacts by first or last name containing this text (case-insensitive)'}, 'email_contains': {'type': 'string', 'description': 'Filter contacts by email containing this text (case-insensitive)'}, 'title_contains': {'type': 'string', 'description': 'Filter contacts by title containing this text (case-insensitive)'}}, 'required': []}}}, {'type': 'function', 'function': {'name': 'salesforce_create_contact', 'description': 'Create a new contact in Salesforce.', 'parameters': {'type': 'object', 'properties': {'contact_data': {'type': 'object', 'description': 'Contact data including LastName (required) and other fields'}}, 'required': ['contact_data']}}}, {'type': 'function', 'function': {'name': 'salesforce_update_contact', 'description': 'Update an existing contact.', 'parameters': {'type': 'object', 'properties': {'contact_id': {'type': 'string', 'description': 'The ID of the contact to update'}, 'contact_data': {'type': 'object', 'description': 'Updated contact data'}}, 'required': ['contact_id', 'contact_data']}}}, {'type': 'function', 'function': {'name': 'salesforce_delete_contact', 'description': 'Delete a contact.', 'parameters': {'type': 'object', 'properties': {'contact_id': {'type': 'string', 'description': 'The ID of the contact to delete'}}, 'required': ['contact_id']}}}, {'type': 'function', 'function': {'name': 'salesforce_get_opportunities', 'description': 'Get opportunities, optionally filtered by account, stage, name, or account name.', 'parameters': {'type': 'object', 'properties': {'account_id': {'type': 'string', 'description': 'Filter opportunities by account ID'}, 'stage': {'type': 'string', 'description': 'Filter opportunities by stage'}, 'name_contains': {'type': 'string', 'description': 'Filter opportunities by name containing this text'}, 'account_name_contains': {'type': 'string', 'description': 'Filter opportunities by account name containing this text'}, 'limit': {'type': 'integer', 'description': 'Maximum number of opportunities to return (default: 50)', 'default': 50}, 'fields': {'type': 'array', 'items': {'type': 'string'}, 'description': 'Specific fields to retrieve'}}, 'required': []}}}, {'type': 'function', 'function': {'name': 'salesforce_create_opportunity', 'description': 'Create a new opportunity in Salesforce.', 'parameters': {'type': 'object', 'properties': {'opportunity_data': {'type': 'object', 'description': 'Opportunity data including Name, StageName, and CloseDate (required)'}}, 'required': ['opportunity_data']}}}, {'type': 'function', 'function': {'name': 'salesforce_update_opportunity', 'description': 'Update an existing opportunity.', 'parameters': {'type': 'object', 'properties': {'opportunity_id': {'type': 'string', 'description': 'The ID of the opportunity to update'}, 'closed_date': {'type': 'string', 'description': 'The date the opportunity was closed'}, 'stage': {'type': 'string', 'description': 'The stage the opportunity is in'}, 'amount': {'type': 'number', 'description': 'The amount of the opportunity'}, 'next_step': {'type': 'string', 'description': 'The next step for the opportunity'}, 'description': {'type': 'string', 'description': 'The description of the opportunity'}, 'owner_id': {'type': 'string', 'description': 'The ID of the owner of the opportunity'}, 'account_id': {'type': 'string', 'description': 'The ID of the account associated with the opportunity'}}, 'required': ['opportunity_id']}}}, {'type': 'function', 'function': {'name': 'salesforce_delete_opportunity', 'description': 'Delete an opportunity.', 'parameters': {'type': 'object', 'properties': {'opportunity_id': {'type': 'string', 'description': 'The ID of the opportunity to delete'}}, 'required': ['opportunity_id']}}}, {'type': 'function', 'function': {'name': 'salesforce_get_leads', 'description': 'Get leads with flexible filtering options including name, company, email, and industry search.', 'parameters': {'type': 'object', 'properties': {'status': {'type': 'string', 'description': 'Filter leads by status'}, 'limit': {'type': 'integer', 'description': 'Maximum number of leads to return (default: 50)', 'default': 50}, 'fields': {'type': 'array', 'items': {'type': 'string'}, 'description': 'Specific fields to retrieve'}, 'name_contains': {'type': 'string', 'description': 'Filter leads by first or last name containing this text (case-insensitive)'}, 'company_contains': {'type': 'string', 'description': 'Filter leads by company name containing this text (case-insensitive)'}, 'email_contains': {'type': 'string', 'description': 'Filter leads by email containing this text (case-insensitive)'}, 'industry': {'type': 'string', 'description': 'Filter leads by industry'}}, 'required': []}}}, {'type': 'function', 'function': {'name': 'salesforce_create_lead', 'description': 'Create a new lead in Salesforce.', 'parameters': {'type': 'object', 'properties': {'lead_data': {'type': 'object', 'description': 'Lead data including LastName and Company (required)'}}, 'required': ['lead_data']}}}, {'type': 'function', 'function': {'name': 'salesforce_update_lead', 'description': 'Update an existing lead.', 'parameters': {'type': 'object', 'properties': {'lead_id': {'type': 'string', 'description': 'The ID of the lead to update'}, 'lead_data': {'type': 'object', 'description': 'Updated lead data'}}, 'required': ['lead_id', 'lead_data']}}}, {'type': 'function', 'function': {'name': 'salesforce_delete_lead', 'description': 'Delete a lead.', 'parameters': {'type': 'object', 'properties': {'lead_id': {'type': 'string', 'description': 'The ID of the lead to delete'}}, 'required': ['lead_id']}}}, {'type': 'function', 'function': {'name': 'salesforce_convert_lead', 'description': 'Convert a lead to account, contact, and optionally opportunity.', 'parameters': {'type': 'object', 'properties': {'lead_id': {'type': 'string', 'description': 'The ID of the lead to convert'}, 'conversion_data': {'type': 'object', 'description': 'Optional conversion settings'}}, 'required': ['lead_id']}}}, {'type': 'function', 'function': {'name': 'salesforce_get_cases', 'description': 'Get cases with flexible filtering options including subject search, account, status, priority, and type.', 'parameters': {'type': 'object', 'properties': {'account_id': {'type': 'string', 'description': 'Filter cases by account ID'}, 'status': {'type': 'string', 'description': 'Filter cases by status'}, 'priority': {'type': 'string', 'description': 'Filter cases by priority'}, 'limit': {'type': 'integer', 'description': 'Maximum number of cases to return (default: 50)', 'default': 50}, 'fields': {'type': 'array', 'items': {'type': 'string'}, 'description': 'Specific fields to retrieve'}, 'subject_contains': {'type': 'string', 'description': 'Filter cases by subject containing this text (case-insensitive)'}, 'case_type': {'type': 'string', 'description': 'Filter cases by type'}}, 'required': []}}}, {'type': 'function', 'function': {'name': 'salesforce_create_case', 'description': 'Create a new case in Salesforce.', 'parameters': {'type': 'object', 'properties': {'case_data': {'type': 'object', 'description': 'Case data including Subject (required)'}}, 'required': ['case_data']}}}, {'type': 'function', 'function': {'name': 'salesforce_update_case', 'description': 'Update an existing case.', 'parameters': {'type': 'object', 'properties': {'case_id': {'type': 'string', 'description': 'The ID of the case to update'}, 'case_data': {'type': 'object', 'description': 'Updated case data'}}, 'required': ['case_id', 'case_data']}}}, {'type': 'function', 'function': {'name': 'salesforce_delete_case', 'description': 'Delete a case.', 'parameters': {'type': 'object', 'properties': {'case_id': {'type': 'string', 'description': 'The ID of the case to delete'}}, 'required': ['case_id']}}}, {'type': 'function', 'function': {'name': 'salesforce_get_campaigns', 'description': 'Get campaigns, optionally filtered by status or type.', 'parameters': {'type': 'object', 'properties': {'status': {'type': 'string', 'description': 'Filter campaigns by status'}, 'type_filter': {'type': 'string', 'description': 'Filter campaigns by type'}, 'limit': {'type': 'integer', 'description': 'Maximum number of campaigns to return (default: 50)', 'default': 50}, 'fields': {'type': 'array', 'items': {'type': 'string'}, 'description': 'Specific fields to retrieve'}}, 'required': []}}}, {'type': 'function', 'function': {'name': 'salesforce_create_campaign', 'description': 'Create a new campaign in Salesforce.', 'parameters': {'type': 'object', 'properties': {'campaign_data': {'type': 'object', 'description': 'Campaign data including Name (required)'}}, 'required': ['campaign_data']}}}, {'type': 'function', 'function': {'name': 'salesforce_update_campaign', 'description': 'Update an existing campaign.', 'parameters': {'type': 'object', 'properties': {'campaign_id': {'type': 'string', 'description': 'The ID of the campaign to update'}, 'campaign_data': {'type': 'object', 'description': 'Updated campaign data'}}, 'required': ['campaign_id', 'campaign_data']}}}, {'type': 'function', 'function': {'name': 'salesforce_delete_campaign', 'description': 'Delete a campaign.', 'parameters': {'type': 'object', 'properties': {'campaign_id': {'type': 'string', 'description': 'The ID of the campaign to delete'}}, 'required': ['campaign_id']}}}, {'type': 'function', 'function': {'name': 'salesforce_query', 'description': 'Execute a SOQL query on Salesforce', 'parameters': {'type': 'object', 'properties': {'query': {'type': 'string', 'description': 'SOQL query to execute'}}, 'required': ['query']}}}, {'type': 'function', 'function': {'name': 'salesforce_describe_object', 'description': 'Get detailed schema and field information for any Salesforce object.', 'parameters': {'type': 'object', 'properties': {'object_name': {'type': 'string', 'description': 'API name of the object to describe'}, 'detailed': {'type': 'boolean', 'description': 'Whether to return additional metadata for custom objects', 'default': False}}, 'required': ['object_name']}}}, {'type': 'function', 'function': {'name': 'send_email', 'description': 'Sends a new email', 'parameters': {'type': 'object', 'properties': {'to': {'type': 'array', 'items': {'type': 'string'}, 'description': 'List of recipient email addresses'}, 'subject': {'type': 'string', 'description': 'Email subject'}, 'body': {'type': 'string', 'description': 'Email body content (used for text/plain or when htmlBody not provided)'}, 'htmlBody': {'type': 'string', 'description': 'HTML version of the email body'}, 'mimeType': {'type': 'string', 'enum': ['text/plain', 'text/html', 'multipart/alternative'], 'default': 'text/plain', 'description': 'Email content type'}, 'cc': {'type': 'array', 'items': {'type': 'string'}, 'description': 'List of CC recipients'}, 'bcc': {'type': 'array', 'items': {'type': 'string'}, 'description': 'List of BCC recipients'}, 'threadId': {'type': 'string', 'description': 'Thread ID to reply to'}, 'inReplyTo': {'type': 'string', 'description': 'Message ID being replied to'}}, 'required': ['to', 'subject', 'body']}}}, {'type': 'function', 'function': {'name': 'draft_email', 'description': 'Draft a new email', 'parameters': {'type': 'object', 'properties': {'to': {'type': 'array', 'items': {'type': 'string'}, 'description': 'List of recipient email addresses'}, 'subject': {'type': 'string', 'description': 'Email subject'}, 'body': {'type': 'string', 'description': 'Email body content (used for text/plain or when htmlBody not provided)'}, 'htmlBody': {'type': 'string', 'description': 'HTML version of the email body'}, 'mimeType': {'type': 'string', 'enum': ['text/plain', 'text/html', 'multipart/alternative'], 'default': 'text/plain', 'description': 'Email content type'}, 'cc': {'type': 'array', 'items': {'type': 'string'}, 'description': 'List of CC recipients'}, 'bcc': {'type': 'array', 'items': {'type': 'string'}, 'description': 'List of BCC recipients'}, 'threadId': {'type': 'string', 'description': 'Thread ID to reply to'}, 'inReplyTo': {'type': 'string', 'description': 'Message ID being replied to'}}, 'required': ['to', 'subject', 'body']}}}, {'type': 'function', 'function': {'name': 'read_email', 'description': 'Retrieves the content of a specific email', 'parameters': {'type': 'object', 'properties': {'messageId': {'type': 'string', 'description': 'ID of the email message to retrieve'}}, 'required': ['messageId']}}}, {'type': 'function', 'function': {'name': 'search_emails', 'description': 'Searches for emails using Gmail search syntax', 'parameters': {'type': 'object', 'properties': {'query': {'type': 'string', 'description': \"Gmail search query (e.g., 'from:example@gmail.com')\"}, 'maxResults': {'type': 'number', 'description': 'Maximum number of results to return'}}, 'required': ['query']}}}, {'type': 'function', 'function': {'name': 'modify_email', 'description': 'Modifies email labels (move to different folders)', 'parameters': {'type': 'object', 'properties': {'messageId': {'type': 'string', 'description': 'ID of the email message to modify'}, 'addLabelIds': {'type': 'array', 'items': {'type': 'string'}, 'description': 'List of label IDs to add to the message'}, 'removeLabelIds': {'type': 'array', 'items': {'type': 'string'}, 'description': 'List of label IDs to remove from the message'}}, 'required': ['messageId']}}}, {'type': 'function', 'function': {'name': 'delete_email', 'description': 'Permanently deletes an email', 'parameters': {'type': 'object', 'properties': {'messageId': {'type': 'string', 'description': 'ID of the email message to delete'}}, 'required': ['messageId']}}}, {'type': 'function', 'function': {'name': 'batch_modify_emails', 'description': 'Modifies labels for multiple emails in batches', 'parameters': {'type': 'object', 'properties': {'messageIds': {'type': 'array', 'items': {'type': 'string'}, 'description': 'List of message IDs to modify'}, 'addLabelIds': {'type': 'array', 'items': {'type': 'string'}, 'description': 'List of label IDs to add to all messages'}, 'removeLabelIds': {'type': 'array', 'items': {'type': 'string'}, 'description': 'List of label IDs to remove from all messages'}, 'batchSize': {'type': 'number', 'default': 50, 'description': 'Number of messages to process in each batch (default: 50)'}}, 'required': ['messageIds']}}}, {'type': 'function', 'function': {'name': 'batch_delete_emails', 'description': 'Permanently deletes multiple emails in batches', 'parameters': {'type': 'object', 'properties': {'messageIds': {'type': 'array', 'items': {'type': 'string'}, 'description': 'List of message IDs to delete'}, 'batchSize': {'type': 'number', 'default': 50, 'description': 'Number of messages to process in each batch (default: 50)'}}, 'required': ['messageIds']}}}]\n",
            "🔄 Processing iteration 1\n",
            "🛠️ Calling tool: salesforce_query with args: {'query': \"SELECT Id, Name, NextStep FROM Opportunity WHERE Account.Name = 'Together AI'\"}\n",
            "✅ Tool salesforce_query executed successfully\n",
            "🔄 Processing iteration 2\n",
            "✅ Task completed in 2 iterations\n",
            "The Salesforce query tool was unable to execute the query due to an error. Let's try to break down the task into smaller steps.\n",
            "\n",
            "First, we need to find the opportunities in Salesforce related to \"Together AI\". To do this, we can use the Salesforce query tool with a query like:\n",
            "\n",
            "```\n",
            "SELECT Id, Name, NextStep \n",
            "FROM Opportunity \n",
            "WHERE Account.Name = 'Together AI'\n",
            "```\n",
            "\n",
            "This query will return the IDs, names, and next steps of the opportunities related to \"Together AI\".\n",
            "\n",
            "Once we have the results, we can draft a follow-up email based on the opportunity next steps.\n",
            "\n",
            "For example, if the next step is \"Schedule a demo\", the follow-up email could be:\n",
            "\n",
            "\"Hi [Contact Name],\n",
            "\n",
            "I wanted to follow up on our previous conversation about [Opportunity Name]. As we discussed, the next step is to schedule a demo. Would you be available for a demo next [insert day/week]?\n",
            "\n",
            "Please let me know a time that works for you, and I'll make sure to schedule it.\n",
            "\n",
            "Best,\n",
            "[Your Name]\"\n",
            "\n",
            "If you provide me with the results of the Salesforce query, I can help you draft a more specific follow-up email based on the opportunity next steps.\n"
          ]
        }
      ],
      "source": [
        "class MultiServiceAgent:\n",
        "    def __init__(self, together_client, klavis_client, mcp_server_urls, model=\"meta-llama/Llama-3.3-70B-Instruct-Turbo\"):\n",
        "        self.together = together_client\n",
        "        self.klavis = klavis_client\n",
        "        self.mcp_server_urls = mcp_server_urls\n",
        "        self.model = model\n",
        "    \n",
        "    def process_request(self, user_message):\n",
        "        # 1. Get available tools from all MCP servers and create tool-to-server mapping\n",
        "        all_tools = []\n",
        "        tool_to_server = {}  # Maps tool names to their server URLs\n",
        "        \n",
        "        for server_url in self.mcp_server_urls:\n",
        "            mcp_tools = self.klavis.mcp_server.list_tools(\n",
        "                server_url=server_url,\n",
        "                format=ToolFormat.OPENAI,\n",
        "            )\n",
        "            all_tools.extend(mcp_tools.tools)\n",
        "            \n",
        "            for tool in mcp_tools.tools:\n",
        "                tool_to_server[tool[\"function\"][\"name\"]] = server_url\n",
        "        \n",
        "        # print all tools\n",
        "        print(f\"🔧 Available tools: {all_tools}\")\n",
        "        \n",
        "        # 2. Initialize conversation\n",
        "        messages = [\n",
        "            {\"role\": \"system\", \"content\": \"You are a helpful AI assistant with access to tools. Complete requested tasks step by step.\"},\n",
        "            {\"role\": \"user\", \"content\": user_message}\n",
        "        ]\n",
        "        \n",
        "        max_iterations = 10 \n",
        "        iteration = 0\n",
        "        \n",
        "        # 3. Keep processing until no more tool calls are needed\n",
        "        while iteration < max_iterations:\n",
        "            iteration += 1\n",
        "            print(f\"🔄 Processing iteration {iteration}\")\n",
        "            \n",
        "            # Call LLM with all available tools\n",
        "            response = self.together.chat.completions.create(\n",
        "                model=self.model,\n",
        "                messages=messages,\n",
        "                tools=all_tools\n",
        "            )\n",
        "            \n",
        "            assistant_message = response.choices[0].message\n",
        "            messages.append(assistant_message)\n",
        "            \n",
        "            # If tool calls are needed\n",
        "            if assistant_message.tool_calls:\n",
        "                \n",
        "                # Execute tool calls\n",
        "                for tool_call in assistant_message.tool_calls:\n",
        "                    tool_name = tool_call.function.name\n",
        "                    tool_args = json.loads(tool_call.function.arguments)\n",
        "                    \n",
        "                    print(f\"🛠️ Calling tool: {tool_name} with args: {tool_args}\")\n",
        "                    \n",
        "                    # Find the correct server for this tool\n",
        "                    if tool_name in tool_to_server:\n",
        "                        server_url = tool_to_server[tool_name]\n",
        "                        \n",
        "                        try:\n",
        "                            tool_result = self.klavis.mcp_server.call_tools(\n",
        "                                server_url=server_url,\n",
        "                                tool_name=tool_name,\n",
        "                                tool_args=tool_args,\n",
        "                            )\n",
        "                            print(f\"✅ Tool {tool_name} executed successfully\")\n",
        "                        except Exception as e:\n",
        "                            tool_result = f\"Error executing tool {tool_name}: {str(e)}\"\n",
        "                            print(f\"❌ Tool {tool_name} failed: {str(e)}\")\n",
        "                    else:\n",
        "                        tool_result = f\"Error: Tool {tool_name} not found in any server\"\n",
        "                        print(f\"❌ Tool {tool_name} not found in any server\")\n",
        "                    \n",
        "                    messages.append({\n",
        "                        \"role\": \"tool\",\n",
        "                        \"tool_call_id\": tool_call.id,\n",
        "                        \"content\": str(tool_result)\n",
        "                    })\n",
        "                \n",
        "                # Continue the loop to see if LLM wants to make more tool calls\n",
        "                continue\n",
        "            \n",
        "            else:\n",
        "                # No more tool calls needed, return the final response\n",
        "                print(f\"✅ Task completed in {iteration} iterations\")\n",
        "                return assistant_message.content\n",
        "        \n",
        "        # If we hit max iterations, return the last response\n",
        "        print(f\"⚠️ Reached max iterations ({max_iterations})\")\n",
        "        return assistant_message.content if assistant_message.content else \"Task completed but reached iteration limit\"\n",
        "\n",
        "multi_agent = MultiServiceAgent(\n",
        "    together_client=together_client,\n",
        "    klavis_client=klavis_client,\n",
        "    mcp_server_urls=[salesforce_mcp_instance.server_url, gmail_mcp_instance.server_url],\n",
        "    model=\"meta-llama/Llama-3.3-70B-Instruct-Turbo\"\n",
        ")\n",
        "\n",
        "# Single request that uses both services\n",
        "multi_response = multi_agent.process_request(\n",
        "    \"\"\"Please do the following using the tools available:\n",
        "    1. Find Together AI opportunities in Salesforce with next steps\n",
        "    2. draft a follow-up email based on the opportunity next steps\n",
        "    \"\"\"\n",
        ")\n",
        "\n",
        "print(multi_response)\n"
      ]
    },
    {
      "cell_type": "markdown",
      "metadata": {
        "vscode": {
          "languageId": "raw"
        }
      },
      "source": [
        "## Summary\n",
        "\n",
        "This tutorial demonstrated how to create a powerful Salesforce + Gmail integration using Together AI and Klavis MCP servers.\n",
        "\n",
        "### 🚀 **Key Features:**\n",
        "\n",
        "- **Simple Agent Classes**: Easy-to-use Agent classes that work with any MCP server\n",
        "- **Flexible Model Selection**: Support for various Together AI models (Llama, Qwen, etc.)\n",
        "- **Real-time Execution**: Direct tool execution through Klavis API\n",
        "\n",
        "\n",
        "### 🔧 **Next Steps:**\n",
        "\n",
        "- **Try More MCP Servers**: Integrate additional MCP servers like Slack, Notion, or Linear\n",
        "- **Custom Workflows**: Create more sophisticated multi-step workflows\n",
        "- **Error Handling**: Add robust error handling and retry logic\n",
        "- **Production Deployment**: Scale for production use with proper monitoring\n",
        "\n",
        "**Happy building with Together AI and Klavis!** 🚀📊📧\n"
      ]
    }
  ],
  "metadata": {
    "kernelspec": {
      "display_name": ".venv",
      "language": "python",
      "name": "python3"
    },
    "language_info": {
      "codemirror_mode": {
        "name": "ipython",
        "version": 3
      },
      "file_extension": ".py",
      "mimetype": "text/x-python",
      "name": "python",
      "nbconvert_exporter": "python",
      "pygments_lexer": "ipython3",
      "version": "3.13.5"
    }
  },
  "nbformat": 4,
  "nbformat_minor": 2
}
