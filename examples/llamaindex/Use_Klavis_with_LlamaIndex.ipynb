{
  "cells": [
    {
      "cell_type": "markdown",
      "metadata": {
        "vscode": {
          "languageId": "raw"
        }
      },
      "source": [
        "[![Open In Colab](https://colab.research.google.com/assets/colab-badge.svg)](https://colab.research.google.com/github/llamaindex/cookbook/blob/main/integrations/Klavis/Use_Klavis_with_LlamaIndex.ipynb)\n"
      ]
    },
    {
      "cell_type": "markdown",
      "metadata": {
        "vscode": {
          "languageId": "raw"
        }
      },
      "source": [
        "# LlamaIndex + Klavis AI Integration\n",
        "\n",
        "This tutorial demonstrates how to build AI agents using LlamaIndex's agent framework with Klavis MCP (Model Context Protocol) servers for enhanced functionality. \n"
      ]
    },
    {
      "cell_type": "markdown",
      "metadata": {
        "vscode": {
          "languageId": "raw"
        }
      },
      "source": [
        "## Prerequisites\n",
        "\n",
        "Before we begin, you'll need:\n",
        "\n",
        "- **OpenAI API key** - Get at [openai.com](https://openai.com/)\n",
        "- **Klavis API key** - Get at [klavis.ai](https://klavis.ai/)\n"
      ]
    },
    {
      "cell_type": "code",
      "execution_count": 1,
      "metadata": {},
      "outputs": [
        {
          "name": "stdout",
          "output_type": "stream",
          "text": [
            "\n",
            "\u001b[1m[\u001b[0m\u001b[34;49mnotice\u001b[0m\u001b[1;39;49m]\u001b[0m\u001b[39;49m A new release of pip is available: \u001b[0m\u001b[31;49m25.0\u001b[0m\u001b[39;49m -> \u001b[0m\u001b[32;49m25.1.1\u001b[0m\n",
            "\u001b[1m[\u001b[0m\u001b[34;49mnotice\u001b[0m\u001b[1;39;49m]\u001b[0m\u001b[39;49m To update, run: \u001b[0m\u001b[32;49mpip install --upgrade pip\u001b[0m\n",
            "Note: you may need to restart the kernel to use updated packages.\n"
          ]
        }
      ],
      "source": [
        "# Install the required packages\n",
        "%pip install -qU llama-index llama-index-tools-mcp requests"
      ]
    },
    {
      "cell_type": "code",
      "execution_count": 2,
      "metadata": {},
      "outputs": [],
      "source": [
        "import os\n",
        "\n",
        "# Set environment variables\n",
        "os.environ[\"OPENAI_API_KEY\"] = \"XXXXXXXXXXXX\"  # Replace with your actual OpenAI API key\n",
        "os.environ[\"KLAVIS_API_KEY\"] = \"XXXXXXXXXXXX\"  # Replace with your actual Klavis API key\n"
      ]
    },
    {
      "cell_type": "markdown",
      "metadata": {
        "vscode": {
          "languageId": "raw"
        }
      },
      "source": [
        "## Set up Klavis API\n",
        "\n",
        "Klavis API is built on REST principles. Check out the [documentation](https://docs.klavis.ai/api-reference/introduction) if you're interested in learning more."
      ]
    },
    {
      "cell_type": "code",
      "execution_count": 4,
      "metadata": {},
      "outputs": [],
      "source": [
        "import requests\n",
        "from typing import Dict, Any\n",
        "import webbrowser\n",
        "\n",
        "class KlavisAPI:\n",
        "    \"\"\"API Client for Klavis API.\"\"\"\n",
        "    \n",
        "    def __init__(self, api_key: str, base_url: str = \"https://api.klavis.ai\"):\n",
        "        self.api_key = api_key\n",
        "        self.base_url = base_url\n",
        "        self.headers = {\n",
        "            \"Authorization\": f\"Bearer {api_key}\",\n",
        "            \"Content-Type\": \"application/json\"\n",
        "        }\n",
        "    \n",
        "    def _make_request(self, method: str, endpoint: str, **kwargs) -> Dict[str, Any]:\n",
        "        \"\"\"Make HTTP request with error handling.\"\"\"\n",
        "        url = f\"{self.base_url}{endpoint}\"\n",
        "        response = requests.request(method, url, headers=self.headers, **kwargs)\n",
        "        response.raise_for_status()\n",
        "        return response.json()\n",
        "    \n",
        "    def create_mcp_instance(self, server_name: str, user_id: str, platform_name: str) -> Dict[str, str]:\n",
        "        \"\"\"Create MCP server instance.\"\"\"\n",
        "        data = {\n",
        "            \"serverName\": server_name,\n",
        "            \"userId\": user_id,\n",
        "            \"platformName\": platform_name,\n",
        "            \"connectionType\": \"StreamableHttp\"\n",
        "        }\n",
        "        result = self._make_request(\"POST\", \"/mcp-server/instance/create\", json=data)\n",
        "        print(f\"✅ Created {server_name} MCP instance\")\n",
        "        return {\n",
        "            'serverUrl': result['serverUrl'],\n",
        "            'instanceId': result['instanceId']\n",
        "        }\n",
        "    \n",
        "    # Advanced use case if the MCP server requires OAuth authorization\n",
        "    def redirect_to_oauth(self, instance_id: str, server_name: str) -> None:\n",
        "        \"\"\"Open OAuth authorization URL in browser.\"\"\"\n",
        "        oauth_url = f\"{self.base_url}/oauth/{server_name.lower()}/authorize?instance_id={instance_id}\"\n",
        "        print(f\"🔐 Opening OAuth authorization for {server_name}\")\n",
        "        print(f\"If you are not redirected automatically, please open this URL: {oauth_url}\")\n",
        "        webbrowser.open(oauth_url)\n"
      ]
    },
    {
      "cell_type": "markdown",
      "metadata": {},
      "source": [
        "## Case 1: YouTube AI Agent\n",
        "\n",
        "Create an AI agent to summarize YouTube videos using LlamaIndex and Klavis MCP Server."
      ]
    },
    {
      "cell_type": "code",
      "execution_count": 10,
      "metadata": {},
      "outputs": [
        {
          "name": "stdout",
          "output_type": "stream",
          "text": [
            "✅ Created YouTube MCP instance\n",
            "🔗 YouTube MCP server created!\n"
          ]
        }
      ],
      "source": [
        "from llama_index.llms.openai import OpenAI\n",
        "from llama_index.tools.mcp import BasicMCPClient\n",
        "\n",
        "# 1. Initialize LLM and Klavis API client\n",
        "llm = OpenAI(model=\"gpt-4o-mini\", api_key=os.getenv(\"OPENAI_API_KEY\"))\n",
        "klavis_api_client = KlavisAPI(api_key=os.getenv(\"KLAVIS_API_KEY\"))\n",
        "\n",
        "# 2. using Klavis API - Create a YouTube MCP server and get the server URL\n",
        "youtube_mcp_instance = klavis_api_client.create_mcp_instance(\n",
        "    server_name=\"YouTube\",\n",
        "    user_id=\"1234\",\n",
        "    platform_name=\"Klavis\",\n",
        ")\n",
        "\n",
        "youtube_mcp_server_url = youtube_mcp_instance[\"serverUrl\"]\n",
        "print(f\"🔗 YouTube MCP server created!\")\n",
        "\n",
        "# 3. using LlamaIndex - Create a MCP client\n",
        "youtube_mcp_client = BasicMCPClient(youtube_mcp_server_url)\n"
      ]
    },
    {
      "cell_type": "code",
      "execution_count": 7,
      "metadata": {},
      "outputs": [
        {
          "name": "stdout",
          "output_type": "stream",
          "text": [
            "The video titled \"Introducing AgentWorkflow, a way to easily create multi-agent systems in Llamaindex\" discusses a new system called AgentWorkflow designed for building and orchestrating AI agent systems. Here are the key points covered in the video:\n",
            "\n",
            "- **Overview of AgentWorkflow**: It helps coordinate multiple AI agents while maintaining state and context, making it suitable for both single specialized agents and teams working together.\n",
            "\n",
            "- **Key Features**:\n",
            "  - Flexible agent types, including FunctionAgent and ReActAgent.\n",
            "  - Built-in state management for better control.\n",
            "  - Real-time monitoring capabilities.\n",
            "  - Human-in-the-loop functionalities for enhanced interaction.\n",
            "\n",
            "- **Learning Resources**: The video encourages viewers to explore comprehensive tutorials and documentation to learn how to build everything from simple assistants to complex multi-agent systems.\n",
            "\n",
            "- **Links Provided**:\n",
            "  - Basic Tutorial\n",
            "  - Full documentation\n",
            "  - Introductory blog post\n",
            "  - Discord community link\n",
            "\n",
            "The video is approximately 16 minutes and 38 seconds long and has garnered over 7,150 views.\n"
          ]
        }
      ],
      "source": [
        "from llama_index.core.agent.workflow import FunctionAgent\n",
        "from llama_index.tools.mcp import (\n",
        "    get_tools_from_mcp_url,\n",
        "    aget_tools_from_mcp_url,\n",
        ")\n",
        "youtube_tools = await aget_tools_from_mcp_url(\n",
        "    youtube_mcp_server_url,\n",
        "    client=youtube_mcp_client,\n",
        ")\n",
        "\n",
        "# 4. using LlamaIndex - Create a YouTube agent\n",
        "youtube_agent = FunctionAgent(\n",
        "    name=\"youtube_agent\",\n",
        "    description=\"Agent using MCP-based tools\",\n",
        "    tools=youtube_tools,\n",
        "    llm=llm,\n",
        "    system_prompt=\"You are an AI assistant that uses MCP tools.\"\n",
        ")\n",
        "\n",
        "\n",
        "YOUTUBE_VIDEO_URL = \"https://www.youtube.com/watch?v=MmiveeGxfX0&t=528s\"  # Replace with your video URL\n",
        "response = await youtube_agent.run(f\"Summarize this video: {YOUTUBE_VIDEO_URL}\")\n",
        "print(response)"
      ]
    },
    {
      "cell_type": "markdown",
      "metadata": {},
      "source": [
        "✅ Nice work! You’ve successfully summarized your favorite YouTube video and saved tons of time!"
      ]
    },
    {
      "cell_type": "markdown",
      "metadata": {},
      "source": [
        "## Case 2: Multi-Agent Workflow\n",
        "\n",
        "Build a LlamaIndex AgentWorkflow that summarizes YouTube videos and sends the summary via email."
      ]
    },
    {
      "cell_type": "raw",
      "metadata": {
        "vscode": {
          "languageId": "raw"
        }
      },
      "source": [
        "## Summary\n",
        "\n",
        "In this tutorial, we explored how to integrate LlamaIndex with Klavis AI to build powerful AI agents using MCP (Model Context Protocol) servers. Here's what we accomplished:\n",
        "\n",
        "### Key Takeaways:\n",
        "\n",
        "1. **Single Agent Setup**: Created a YouTube AI agent that can summarize videos using the Klavis YouTube MCP server\n",
        "2. **Multi-Agent Workflow**: Built a sophisticated workflow combining YouTube and Gmail agents to summarize videos and automatically send summaries via email\n",
        "3. **MCP Integration**: Learned how to use Klavis MCP servers with LlamaIndex's agent framework for enhanced functionality\n",
        "4. **OAuth Support**: Implemented OAuth authorization for services like Gmail that require authentication\n",
        "\n",
        "### Technologies Used:\n",
        "- **LlamaIndex**: Agent framework and workflow orchestration\n",
        "- **Klavis AI**: MCP server provisioning and management\n",
        "- **OpenAI GPT**: Language model for agent reasoning\n",
        "- **MCP Protocol**: Standardized tool integration\n",
        "\n",
        "This integration opens up endless possibilities for building AI agents that can interact with various services and platforms through Klavis MCP servers. You can now create agents that work with YouTube, Gmail, GitHub, Slack, and many other services supported by Klavis.\n",
        "\n",
        "Happy building! 🚀\n"
      ]
    },
    {
      "cell_type": "code",
      "execution_count": 11,
      "metadata": {},
      "outputs": [
        {
          "name": "stdout",
          "output_type": "stream",
          "text": [
            "✅ Created YouTube MCP instance\n",
            "✅ Created Gmail MCP instance\n",
            "🔐 Opening OAuth authorization for Gmail\n",
            "If you are not redirected automatically, please open this URL: https://api.klavis.ai/oauth/gmail/authorize?instance_id=d9d482b3-433a-4330-9a8b-9548c0b0a326\n"
          ]
        }
      ],
      "source": [
        "from llama_index.llms.openai import OpenAI\n",
        "\n",
        "# 1. Initialize LLM and Klavis API client\n",
        "llm = OpenAI(model=\"gpt-4o-mini\", api_key=os.getenv(\"OPENAI_API_KEY\"))\n",
        "klavis_api_client = KlavisAPI(api_key=os.getenv(\"KLAVIS_API_KEY\"))\n",
        "\n",
        "# 2. Create a YouTube MCP server     \n",
        "youtube_mcp_instance = klavis_api_client.create_mcp_instance(\n",
        "    server_name=\"YouTube\",\n",
        "    user_id=\"1234\",\n",
        "    platform_name=\"Klavis\",\n",
        ")\n",
        "\n",
        "# 3. Create a Gmail MCP server with OAuth authorization\n",
        "gmail_mcp_instance = klavis_api_client.create_mcp_instance(\n",
        "    server_name=\"Gmail\",\n",
        "    user_id=\"1234\",\n",
        "    platform_name=\"Klavis\",\n",
        ")\n",
        "klavis_api_client.redirect_to_oauth(gmail_mcp_instance[\"instanceId\"], \"Gmail\")"
      ]
    },
    {
      "cell_type": "code",
      "execution_count": 12,
      "metadata": {},
      "outputs": [],
      "source": [
        "from llama_index.tools.mcp import (\n",
        "    BasicMCPClient,\n",
        "    get_tools_from_mcp_url,\n",
        "    aget_tools_from_mcp_url,\n",
        ")\n",
        "\n",
        "# using LlamaIndex mcp framework - tool format transformation and setting up the MCP Client\n",
        "\n",
        "youtube_mcp_server_url = youtube_mcp_instance[\"serverUrl\"]\n",
        "gmail_mcp_server_url = gmail_mcp_instance[\"serverUrl\"]\n",
        "\n",
        "youtube_mcp_client = BasicMCPClient(youtube_mcp_server_url)\n",
        "gmail_mcp_client = BasicMCPClient(gmail_mcp_server_url)\n",
        "\n",
        "youtube_tools = await aget_tools_from_mcp_url(\n",
        "    youtube_mcp_server_url,\n",
        "    client=youtube_mcp_client,\n",
        ")\n",
        "\n",
        "gmail_tools = await aget_tools_from_mcp_url(\n",
        "    gmail_mcp_server_url,\n",
        "    client=gmail_mcp_client,\n",
        ")\n"
      ]
    },
    {
      "cell_type": "code",
      "execution_count": 13,
      "metadata": {},
      "outputs": [],
      "source": [
        "from llama_index.core.agent.workflow import FunctionAgent\n",
        "\n",
        "# using LlamaIndex agent framework - create agents\n",
        "\n",
        "youtube_agent = FunctionAgent(\n",
        "    name=\"youtube_agent\",\n",
        "    description=\"Agent using MCP-based tools\",\n",
        "    tools=youtube_tools,\n",
        "    llm=llm,\n",
        "    system_prompt=\"You are an AI assistant that uses MCP tools.\",\n",
        "    can_handoff_to=[\"gmail_agent\"], # handoff to gmail agent\n",
        ")\n",
        "\n",
        "gmail_agent = FunctionAgent(\n",
        "    name=\"gmail_agent\",\n",
        "    description=\"Agent using MCP-based tools\",\n",
        "    tools=gmail_tools,\n",
        "    llm=llm,\n",
        "    system_prompt=\"You are an AI assistant that uses MCP tools.\"\n",
        ")"
      ]
    },
    {
      "cell_type": "code",
      "execution_count": 14,
      "metadata": {},
      "outputs": [],
      "source": [
        "from llama_index.core.agent.workflow import AgentWorkflow\n",
        "\n",
        "\n",
        "# using LlamaIndex workflow framework - create a workflow with multiple agents\n",
        "\n",
        "workflow = AgentWorkflow(\n",
        "        agents=[youtube_agent, gmail_agent],\n",
        "        root_agent=\"youtube_agent\",\n",
        "    )"
      ]
    },
    {
      "cell_type": "code",
      "execution_count": 17,
      "metadata": {},
      "outputs": [
        {
          "name": "stdout",
          "output_type": "stream",
          "text": [
            "\n",
            "✅ Report:\n",
            " The summary of the video has been successfully sent to zihaolin@klavis.ai. If you need anything else, feel free to ask!\n"
          ]
        }
      ],
      "source": [
        "YOUTUBE_VIDEO_URL = \"https://www.youtube.com/watch?v=MmiveeGxfX0&t=528s\" # pick a video you like!\n",
        "EMAIL_RECIPIENT = \"zihaolin@klavis.ai\"  # Replace with your email\n",
        "\n",
        "resp = await workflow.run(user_msg=f\"Summarize this video {YOUTUBE_VIDEO_URL} and send it to {EMAIL_RECIPIENT}\")\n",
        "print(\"\\n✅ Report:\\n\", resp.response.content)"
      ]
    },
    {
      "cell_type": "markdown",
      "metadata": {
        "vscode": {
          "languageId": "raw"
        }
      },
      "source": [
        "\n",
        "## Summary\n",
        "\n",
        "In this tutorial, we explored how to integrate LlamaIndex with Klavis AI to build powerful AI agents using MCP (Model Context Protocol) servers. Here's what we accomplished:\n",
        "\n",
        "### Key Takeaways:\n",
        "\n",
        "1. **Single Agent Setup**: Created a YouTube AI agent that can summarize videos using the Klavis YouTube MCP server\n",
        "2. **Multi-Agent Workflow**: Built a sophisticated workflow combining YouTube and Gmail agents to summarize videos and automatically send summaries via email\n",
        "3. **MCP Integration**: Learned how to use Klavis MCP servers with LlamaIndex's agent framework for enhanced functionality\n",
        "\n",
        "This integration opens up endless possibilities for building AI agents that can interact with various services and platforms through Klavis MCP servers. You can now create agents that work with YouTube, Gmail, GitHub, Slack, and many other services supported by Klavis.\n",
        "\n",
        "Happy building! 🚀"
      ]
    }
  ],
  "metadata": {
    "kernelspec": {
      "display_name": "Python (cookbook-venv)",
      "language": "python",
      "name": "cookbook-venv"
    },
    "language_info": {
      "codemirror_mode": {
        "name": "ipython",
        "version": 3
      },
      "file_extension": ".py",
      "mimetype": "text/x-python",
      "name": "python",
      "nbconvert_exporter": "python",
      "pygments_lexer": "ipython3",
      "version": "3.13.2"
    }
  },
  "nbformat": 4,
  "nbformat_minor": 2
}
