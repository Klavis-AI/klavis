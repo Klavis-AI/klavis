{
  "cells": [
    {
      "cell_type": "markdown",
      "metadata": {
        "vscode": {
          "languageId": "raw"
        }
      },
      "source": [
        "[![Open In Colab](https://colab.research.google.com/assets/colab-badge.svg)](https://colab.research.google.com/github/llamaindex/cookbook/blob/main/integrations/Klavis/Use_Klavis_with_LlamaIndex.ipynb)\n"
      ]
    },
    {
      "cell_type": "markdown",
      "metadata": {
        "vscode": {
          "languageId": "raw"
        }
      },
      "source": [
        "# LlamaIndex + Klavis AI Integration\n",
        "\n",
        "# <img src=\"../../static/.png\" width=\"500\">\n",
        "\n",
        "In this tutorial, we'll explore how to build powerful AI agents that integrate LlamaIndex's advanced RAG capabilities with Klavis MCP (Model Context Protocol) Servers. This integration combines:\n",
        "\n",
        "- **LlamaIndex**: Advanced RAG framework with powerful agent capabilities and function calling\n",
        "- **Klavis AI**: MCP servers for connecting to external tools and services\n",
        "\n",
        "This combination enables you to create sophisticated agents that can:\n",
        "- Perform advanced document retrieval and analysis\n",
        "- Execute complex workflows with external tools\n",
        "- Maintain conversation context and memory\n",
        "- Handle multi-step reasoning tasks\n"
      ]
    },
    {
      "cell_type": "markdown",
      "metadata": {
        "vscode": {
          "languageId": "raw"
        }
      },
      "source": [
        "## Prerequisites\n",
        "\n",
        "Before we begin, you'll need:\n",
        "\n",
        "- **OpenAI API key** - Get yours at [openai.com](https://openai.com/)\n",
        "- **Klavis API key** - Get yours at [klavis.ai](https://klavis.ai/)\n",
        "\n",
        "Make sure to keep these API keys secure and never commit them to version control!\n"
      ]
    },
    {
      "cell_type": "code",
      "execution_count": 14,
      "metadata": {},
      "outputs": [
        {
          "name": "stdout",
          "output_type": "stream",
          "text": [
            "\u001b[31mERROR: Ignored the following versions that require a different python version: 0.1.0 Requires-Python <4.0,>=3.10; 0.1.1 Requires-Python <4.0,>=3.10; 0.1.2 Requires-Python <4.0,>=3.10; 0.1.3 Requires-Python <4.0,>=3.10; 0.2.0 Requires-Python <4.0,>=3.10; 0.2.1 Requires-Python <4.0,>=3.10; 0.2.2 Requires-Python <4.0,>=3.10; 0.2.3 Requires-Python <4.0,>=3.10; 0.2.4 Requires-Python <4.0,>=3.10; 0.2.5 Requires-Python <4.0,>=3.10\u001b[0m\u001b[31m\n",
            "\u001b[0m\u001b[31mERROR: Could not find a version that satisfies the requirement llama-index-tools-mcp (from versions: none)\u001b[0m\u001b[31m\n",
            "\u001b[0m\u001b[31mERROR: No matching distribution found for llama-index-tools-mcp\u001b[0m\u001b[31m\n",
            "\u001b[0mNote: you may need to restart the kernel to use updated packages.\n"
          ]
        }
      ],
      "source": [
        "# Install the required packages\n",
        "%pip install -qU llama-index llama-index-tools-mcp requests"
      ]
    },
    {
      "cell_type": "code",
      "execution_count": null,
      "metadata": {},
      "outputs": [],
      "source": [
        "import os\n",
        "\n",
        "# Set environment variables\n",
        "os.environ[\"OPENAI_API_KEY\"] = \"your-openai-api-key-here\"  # Replace with your actual OpenAI API key\n",
        "os.environ[\"KLAVIS_API_KEY\"] = \"your-klavis-api-key-here\"  # Replace with your actual Klavis API key\n"
      ]
    },
    {
      "cell_type": "raw",
      "metadata": {
        "vscode": {
          "languageId": "raw"
        }
      },
      "source": [
        "## Set up Klavis API\n",
        "\n",
        "Klavis API provides access to various MCP servers through a unified REST interface. Check out the [documentation](https://docs.klavis.ai/api-reference/introduction) for more details about available services and integrations.\n"
      ]
    },
    {
      "cell_type": "code",
      "execution_count": 13,
      "metadata": {},
      "outputs": [
        {
          "ename": "ModuleNotFoundError",
          "evalue": "No module named 'requests'",
          "output_type": "error",
          "traceback": [
            "\u001b[0;31m---------------------------------------------------------------------------\u001b[0m",
            "\u001b[0;31mModuleNotFoundError\u001b[0m                       Traceback (most recent call last)",
            "Cell \u001b[0;32mIn[13], line 1\u001b[0m\n\u001b[0;32m----> 1\u001b[0m \u001b[38;5;28;01mimport\u001b[39;00m\u001b[38;5;250m \u001b[39m\u001b[38;5;21;01mrequests\u001b[39;00m\n\u001b[1;32m      2\u001b[0m \u001b[38;5;28;01mimport\u001b[39;00m\u001b[38;5;250m \u001b[39m\u001b[38;5;21;01murllib\u001b[39;00m\u001b[38;5;21;01m.\u001b[39;00m\u001b[38;5;21;01mparse\u001b[39;00m\n\u001b[1;32m      3\u001b[0m \u001b[38;5;28;01mfrom\u001b[39;00m\u001b[38;5;250m \u001b[39m\u001b[38;5;21;01mtyping\u001b[39;00m\u001b[38;5;250m \u001b[39m\u001b[38;5;28;01mimport\u001b[39;00m Dict, Any, Optional, List\n",
            "\u001b[0;31mModuleNotFoundError\u001b[0m: No module named 'requests'"
          ]
        }
      ],
      "source": [
        "import requests\n",
        "import urllib.parse\n",
        "from typing import Dict, Any, Optional, List\n",
        "import webbrowser\n",
        "\n",
        "class KlavisAPI:\n",
        "    \"\"\"API Client for Klavis API.\"\"\"\n",
        "    \n",
        "    def __init__(self, api_key: str, base_url: str = \"https://api.klavis.ai\"):\n",
        "        self.api_key = api_key\n",
        "        self.base_url = base_url\n",
        "        self.headers = {\n",
        "            \"Authorization\": f\"Bearer {api_key}\",\n",
        "            \"Content-Type\": \"application/json\"\n",
        "        }\n",
        "    \n",
        "    def _make_request(self, method: str, endpoint: str, **kwargs) -> Dict[str, Any]:\n",
        "        \"\"\"Make HTTP request with error handling.\"\"\"\n",
        "        url = f\"{self.base_url}{endpoint}\"\n",
        "        response = requests.request(method, url, headers=self.headers, **kwargs)\n",
        "        response.raise_for_status()\n",
        "        return response.json()\n",
        "    \n",
        "    def create_mcp_instance(self, server_name: str, user_id: str, platform_name: str) -> Dict[str, str]:\n",
        "        \"\"\"Create MCP server instance.\"\"\"\n",
        "        data = {\n",
        "            \"serverName\": server_name,\n",
        "            \"userId\": user_id,\n",
        "            \"platformName\": platform_name,\n",
        "            \"connectionType\": \"StreamableHttp\"\n",
        "        }\n",
        "        result = self._make_request(\"POST\", \"/mcp-server/instance/create\", json=data)\n",
        "        print(f\"✅ Created {server_name} MCP instance\")\n",
        "        return {\n",
        "            'serverUrl': result['serverUrl'],\n",
        "            'instanceId': result['instanceId']\n",
        "        }\n",
        "    \n",
        "    # Advanced use case if the MCP server requires OAuth authorization\n",
        "    def redirect_to_oauth(self, instance_id: str, server_name: str) -> None:\n",
        "        \"\"\"Open OAuth authorization URL in browser.\"\"\"\n",
        "        oauth_url = f\"{self.base_url}/oauth/{server_name.lower()}/authorize?instance_id={instance_id}\"\n",
        "        print(f\"🔐 Opening OAuth authorization for {server_name}\")\n",
        "        print(f\"If you are not redirected automatically, please open this URL: {oauth_url}\")\n",
        "        webbrowser.open(oauth_url)\n"
      ]
    },
    {
      "cell_type": "markdown",
      "metadata": {},
      "source": [
        "## Case 1 - YouTube AI Agent\n",
        "\n",
        "create AI agent to summarize youtube video with Llamaindex agent framework and Klavis MCP Server"
      ]
    },
    {
      "cell_type": "code",
      "execution_count": null,
      "metadata": {},
      "outputs": [],
      "source": [
        "from llama_index.llms.openai import OpenAI\n",
        "from llama_index.tools.mcp import BasicMCPClient\n",
        "\n",
        "# 1. Initialize LLM and Klavis API client\n",
        "llm = OpenAI(model=\"gpt-4o-mini\", api_key=os.getenv(\"OPENAI_API_KEY\"))\n",
        "klavis_api_client = KlavisAPI(api_key=os.getenv(\"KLAVIS_API_KEY\"))\n",
        "\n",
        "# 2. using Klavis API - Create a YouTube MCP server and get the server URL\n",
        "youtube_mcp_instance = klavis_api_client.create_mcp_instance(\n",
        "    server_name=\"YouTube\",\n",
        "    user_id=\"1234\",\n",
        "    platform_name=\"Klavis\",\n",
        ")\n",
        "\n",
        "youtube_mcp_server_url = youtube_mcp_instance[\"serverUrl\"]\n",
        "\n",
        "# 3. using LlamaIndex - Create a MCP client\n",
        "youtube_mcp_client = BasicMCPClient(youtube_mcp_server_url)\n"
      ]
    },
    {
      "cell_type": "code",
      "execution_count": null,
      "metadata": {},
      "outputs": [],
      "source": [
        "from llama_index.core.agent.workflow import FunctionAgent\n",
        "from llama_index.tools.mcp import (\n",
        "    get_tools_from_mcp_url,\n",
        "    aget_tools_from_mcp_url,\n",
        ")\n",
        "youtube_tools = await aget_tools_from_mcp_url(\n",
        "    youtube_mcp_server_url,\n",
        "    client=youtube_mcp_client,\n",
        ")\n",
        "\n",
        "# 4. using LlamaIndex - Create a YouTube agent\n",
        "youtube_agent = FunctionAgent(\n",
        "    name=\"youtube_agent\",\n",
        "    description=\"Agent using MCP-based tools\",\n",
        "    tools=youtube_tools,\n",
        "    llm=llm,\n",
        "    system_prompt=\"You are an AI assistant that uses MCP tools.\"\n",
        ")\n",
        "\n",
        "\n",
        "YOUTUBE_VIDEO_URL = \"https://www.youtube.com/watch?v=MmiveeGxfX0&t=528s\" # pick a video you like!\n",
        "response = await youtube_agent.run(f\"suumarize this video {YOUTUBE_VIDEO_URL}\")\n",
        "print(response)"
      ]
    },
    {
      "cell_type": "markdown",
      "metadata": {},
      "source": [
        "Congrats! You've succesfully summarize the youtube video you like, save a lot fo times! "
      ]
    },
    {
      "cell_type": "markdown",
      "metadata": {},
      "source": [
        "## Case 2 - Workflow: YouTube AI Agent + Email AI Agent\n",
        "\n",
        "Build Llamaindex AgentWorkflow to summarize youtube video and send it to email"
      ]
    },
    {
      "cell_type": "code",
      "execution_count": null,
      "metadata": {},
      "outputs": [],
      "source": [
        "from llama_index.llms.openai import OpenAI\n",
        "\n",
        "# 1. Initialize LLM and Klavis API client\n",
        "llm = OpenAI(model=\"gpt-4o-mini\", api_key=os.getenv(\"OPENAI_API_KEY\"))\n",
        "klavis_api_client = KlavisAPI(api_key=os.getenv(\"KLAVIS_API_KEY\"))\n",
        "\n",
        "# 2. using Klavis API - Create a YouTube MCP server and get the server URL\n",
        "youtube_mcp_instance = klavis_api_client.create_mcp_instance(\n",
        "    server_name=\"YouTube\",\n",
        "    user_id=\"1234\",\n",
        "    platform_name=\"Klavis\",\n",
        ")\n",
        "\n",
        "# 3. using Klavis API - Create a Gmail MCP server and get the server URL\n",
        "gmail_mcp_instance = klavis_api_client.create_mcp_instance(\n",
        "    server_name=\"Gmail\",\n",
        "    user_id=\"1234\",\n",
        "    platform_name=\"Klavis\",\n",
        ")\n",
        "\n",
        "# 4. Open Gmail OAuth authorization URL\n",
        "klavis_api_client.redirect_to_oauth(gmail_mcp_instance[\"instanceId\"], \"Gmail\")"
      ]
    },
    {
      "cell_type": "code",
      "execution_count": null,
      "metadata": {},
      "outputs": [],
      "source": [
        "from llama_index.tools.mcp import BasicMCPClient\n",
        "\n",
        "youtube_mcp_server_url = youtube_mcp_instance[\"serverUrl\"]\n",
        "gmail_mcp_server_url = gmail_mcp_instance[\"serverUrl\"]\n",
        "\n",
        "youtube_mcp_client = BasicMCPClient(youtube_mcp_server_url)\n",
        "gmail_mcp_client = BasicMCPClient(gmail_mcp_server_url)\n",
        "\n",
        "youtube_tools = await aget_tools_from_mcp_url(\n",
        "    youtube_mcp_server_url,\n",
        "    client=youtube_mcp_client,\n",
        ")\n",
        "\n",
        "gmail_tools = await aget_tools_from_mcp_url(\n",
        "    gmail_mcp_server_url,\n",
        "    client=gmail_mcp_client,\n",
        ")\n"
      ]
    },
    {
      "cell_type": "code",
      "execution_count": null,
      "metadata": {},
      "outputs": [],
      "source": [
        "from llama_index.core.agent.workflow import FunctionAgent\n",
        "\n",
        "youtube_agent = FunctionAgent(\n",
        "    name=\"youtube_agent\",\n",
        "    description=\"Agent using MCP-based tools\",\n",
        "    tools=youtube_tools,\n",
        "    llm=llm,\n",
        "    system_prompt=\"You are an AI assistant that uses MCP tools.\",\n",
        "    can_handoff_to=[\"gmail_agent\"], # handoff to gmail agent\n",
        ")\n",
        "\n",
        "gmail_agent = FunctionAgent(\n",
        "    name=\"gmail_agent\",\n",
        "    description=\"Agent using MCP-based tools\",\n",
        "    tools=gmail_tools,\n",
        "    llm=llm,\n",
        "    system_prompt=\"You are an AI assistant that uses MCP tools.\"\n",
        ")"
      ]
    },
    {
      "cell_type": "code",
      "execution_count": null,
      "metadata": {},
      "outputs": [],
      "source": [
        "from llama_index.core.agent.workflow import AgentWorkflow\n",
        "\n",
        "workflow = AgentWorkflow(\n",
        "        agents=[youtube_agent, gmail_agent],\n",
        "        root_agent=\"youtube_agent\",\n",
        "        # initial_state={\"notes\": \"\", \"report\": \"\"},\n",
        "    )"
      ]
    },
    {
      "cell_type": "code",
      "execution_count": null,
      "metadata": {},
      "outputs": [],
      "source": [
        "YOUTUBE_VIDEO_URL = \"https://www.youtube.com/watch?v=MmiveeGxfX0&t=528s\"\n",
        "\n",
        "EMAIL_SUBJECT = \"Hello, World!\"\n",
        "EMAIL_BODY = \"This is a test email.\"\n",
        "EMAIL_RECIPIENT = \"zihaolin@klavis.ai\" # replace with your email\n",
        "\n",
        "resp = await workflow.run(user_msg=f\"suumarize this video {YOUTUBE_VIDEO_URL} and then send it to {EMAIL_RECIPIENT}, subject is {EMAIL_SUBJECT}, body is {EMAIL_BODY}\")\n",
        "print(\"\\n✅ Report:\\n\", resp.response.content)"
      ]
    },
    {
      "cell_type": "raw",
      "metadata": {
        "vscode": {
          "languageId": "raw"
        }
      },
      "source": [
        "\n"
      ]
    }
  ],
  "metadata": {
    "kernelspec": {
      "display_name": ".venv",
      "language": "python",
      "name": "python3"
    },
    "language_info": {
      "codemirror_mode": {
        "name": "ipython",
        "version": 3
      },
      "file_extension": ".py",
      "mimetype": "text/x-python",
      "name": "python",
      "nbconvert_exporter": "python",
      "pygments_lexer": "ipython3",
      "version": "3.9.6"
    }
  },
  "nbformat": 4,
  "nbformat_minor": 2
}
