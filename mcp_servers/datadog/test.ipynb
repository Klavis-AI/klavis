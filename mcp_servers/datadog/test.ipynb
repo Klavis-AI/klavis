{
 "cells": [
  {
   "cell_type": "code",
   "execution_count": null,
   "id": "454230c1",
   "metadata": {},
   "outputs": [],
   "source": [
    "%reload_ext autoreload\n",
    "%autoreload 2\n",
    "\n",
    "from server import *"
   ]
  },
  {
   "cell_type": "code",
   "execution_count": null,
   "id": "c4e8e2c4",
   "metadata": {},
   "outputs": [],
   "source": [
    "# Check if API credentials are properly loaded\n",
    "import os\n",
    "print(\"DD_API_KEY exists:\", bool(os.getenv(\"DD_API_KEY\")))\n",
    "print(\"DD_APP_KEY exists:\", bool(os.getenv(\"DD_APP_KEY\")))\n",
    "print(\"DATADOG_SITE:\", os.getenv(\"DATADOG_SITE\", \"datadoghq.com\"))\n",
    "\n",
    "# Show first/last few characters of keys (for debugging, don't show full keys)\n",
    "api_key = os.getenv(\"DD_API_KEY\", \"\")\n",
    "app_key = os.getenv(\"DD_APP_KEY\", \"\")\n",
    "if api_key:\n",
    "    print(f\"API Key format: {api_key[:8]}...{api_key[-4:]}\")\n",
    "if app_key:\n",
    "    print(f\"App Key format: {app_key[:8]}...{app_key[-4:]}\")"
   ]
  },
  {
   "cell_type": "code",
   "execution_count": null,
   "id": "7d778b54",
   "metadata": {},
   "outputs": [],
   "source": [
    "# Try the hosts endpoint after checking others\n",
    "await list_hosts(from_time=\"10 days ago\")"
   ]
  },
  {
   "cell_type": "code",
   "execution_count": null,
   "id": "9e6952bd",
   "metadata": {},
   "outputs": [],
   "source": [
    "await list_logs()"
   ]
  },
  {
   "cell_type": "code",
   "execution_count": null,
   "id": "3cad497b",
   "metadata": {},
   "outputs": [],
   "source": [
    "await list_spans()"
   ]
  },
  {
   "cell_type": "code",
   "execution_count": null,
   "id": "0b1a2e8a",
   "metadata": {},
   "outputs": [],
   "source": [
    "await list_spans()"
   ]
  },
  {
   "cell_type": "code",
   "execution_count": null,
   "id": "f97c8674",
   "metadata": {},
   "outputs": [],
   "source": [
    "await list_metrics(\"system.cpu\")"
   ]
  },
  {
   "cell_type": "code",
   "execution_count": null,
   "id": "26361974",
   "metadata": {},
   "outputs": [],
   "source": [
    "await get_metrics(\"avg:system.cpu.idle{*}\")"
   ]
  },
  {
   "cell_type": "code",
   "execution_count": null,
   "id": "38305604",
   "metadata": {},
   "outputs": [],
   "source": [
    "await list_monitors()"
   ]
  },
  {
   "cell_type": "code",
   "execution_count": null,
   "id": "43ef4b0d",
   "metadata": {},
   "outputs": [],
   "source": [
    "await get_monitor(81186371)"
   ]
  },
  {
   "cell_type": "code",
   "execution_count": null,
   "id": "e07fa275",
   "metadata": {},
   "outputs": [],
   "source": [
    "await list_incidents()"
   ]
  },
  {
   "cell_type": "code",
   "execution_count": null,
   "id": "2c6f4af2",
   "metadata": {},
   "outputs": [],
   "source": [
    "await get_incident('1794ff75-da50-58c8-850b-b521fc6ad08e')  # Replace with a valid incident ID"
   ]
  },
  {
   "cell_type": "code",
   "execution_count": null,
   "id": "9aa460c5",
   "metadata": {},
   "outputs": [],
   "source": [
    "await list_dashboards()"
   ]
  },
  {
   "cell_type": "code",
   "execution_count": null,
   "id": "0d62548c",
   "metadata": {},
   "outputs": [],
   "source": [
    "await get_dashboard(\"dhw-w6h-pvz\")"
   ]
  },
  {
   "cell_type": "code",
   "execution_count": null,
   "id": "8a69bd90",
   "metadata": {},
   "outputs": [],
   "source": [
    "# Fix: Use the correct parameter name 'monitor_tags' instead of 'tags'\n",
    "await list_monitors(monitor_tags=['integration:host'])"
   ]
  },
  {
   "cell_type": "code",
   "execution_count": null,
   "id": "ded84c06",
   "metadata": {},
   "outputs": [],
   "source": []
  },
  {
   "cell_type": "code",
   "execution_count": null,
   "id": "5424d861",
   "metadata": {},
   "outputs": [],
   "source": []
  }
 ],
 "metadata": {
  "kernelspec": {
   "display_name": "klavis",
   "language": "python",
   "name": "python3"
  },
  "language_info": {
   "codemirror_mode": {
    "name": "ipython",
    "version": 3
   },
   "file_extension": ".py",
   "mimetype": "text/x-python",
   "name": "python",
   "nbconvert_exporter": "python",
   "pygments_lexer": "ipython3",
   "version": "3.12.11"
  }
 },
 "nbformat": 4,
 "nbformat_minor": 5
}
